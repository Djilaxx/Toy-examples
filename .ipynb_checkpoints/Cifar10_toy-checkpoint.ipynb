{
 "cells": [
  {
   "cell_type": "code",
   "execution_count": 1,
   "metadata": {},
   "outputs": [
    {
     "name": "stderr",
     "output_type": "stream",
     "text": [
      "Using TensorFlow backend.\n"
     ]
    }
   ],
   "source": [
    "import pandas as pd\n",
    "import numpy as np\n",
    "import matplotlib.pyplot as plt\n",
    "from sklearn.model_selection import train_test_split\n",
    "from keras.preprocessing.image import ImageDataGenerator\n",
    "from keras import optimizers\n",
    "from keras.callbacks import ModelCheckpoint, EarlyStopping\n",
    "from keras import layers, Sequential\n",
    "from keras.utils import to_categorical\n",
    "from keras.datasets import cifar10"
   ]
  },
  {
   "cell_type": "code",
   "execution_count": 2,
   "metadata": {},
   "outputs": [
    {
     "name": "stdout",
     "output_type": "stream",
     "text": [
      "Training dataset is composed of images in the (50000, 32, 32, 3) format & a test dataset in the (10000, 32, 32, 3) format\n"
     ]
    }
   ],
   "source": [
    "(x_train, y_train), (x_test, y_test) = cifar10.load_data()\n",
    "y_train = to_categorical(y_train, num_classes = 10)\n",
    "y_test = to_categorical(y_test, num_classes = 10)\n",
    "print('Training dataset is composed of images in the',x_train.shape, 'format & a test dataset in the',x_test.shape,'format') "
   ]
  },
  {
   "cell_type": "code",
   "execution_count": 3,
   "metadata": {},
   "outputs": [],
   "source": [
    "nb_classes = 10 #10 classes in the cifar10 dataset\n",
    "batch_size = 64 #Batch size is classic (depends on the config you will be running the model on)\n",
    "img_size = 32\n",
    "nb_epochs = 10 \n",
    "#Defining some of the basic hyperparameters of our model "
   ]
  },
  {
   "cell_type": "code",
   "execution_count": 4,
   "metadata": {},
   "outputs": [],
   "source": [
    "train_datagen=ImageDataGenerator(rescale=1./255, #Putting all brightness numbers between 0 & 1 \n",
    "    horizontal_flip = True,    \n",
    "    zoom_range = 0.3,\n",
    "    width_shift_range = 0.3,\n",
    "    height_shift_range=0.3\n",
    "    ) #Configuring the options of our Img generator (Flipping, zoom, shift)\n",
    "\n",
    "train_generator=train_datagen.flow(\n",
    "    x_train,\n",
    "    y=y_train,\n",
    "    batch_size=batch_size,\n",
    "    shuffle=True)\n",
    "\n",
    "test_datagen = ImageDataGenerator(rescale=1./255) #No transformation used on the test dataset we want to predict on real images\n",
    "\n",
    "test_generator=test_datagen.flow(\n",
    "    x_test,\n",
    "    y_test,\n",
    "    batch_size=batch_size,\n",
    "    shuffle=True)"
   ]
  },
  {
   "cell_type": "code",
   "execution_count": 5,
   "metadata": {},
   "outputs": [],
   "source": [
    "def small_vgg(lr=0.1,decay = 0.0,activ = 'sigmoid',nb_class = 2): #Model is initialized for binary classification\n",
    "    model = Sequential() #A cell is composed of 2 Conv layer with relu activation and batch norm followed by max pooling\n",
    "    model.add(layers.Conv2D(input_shape = (img_size, img_size, 3), \n",
    "                     filters = 64,\n",
    "                     kernel_size = (3,3),\n",
    "                     padding = 'same',\n",
    "                     strides = 1))\n",
    "    model.add(layers.Activation('relu'))\n",
    "    model.add(layers.BatchNormalization())\n",
    "    model.add(layers.Conv2D(filters = 64,\n",
    "                            kernel_size = (3,3),\n",
    "                            padding = 'same',\n",
    "                            strides = 1))\n",
    "    model.add(layers.Activation('relu'))\n",
    "    model.add(layers.BatchNormalization())\n",
    "    model.add(layers.MaxPooling2D(pool_size = (2,2),strides = (2,2)))\n",
    "    model.add(layers.Conv2D(filters = 128, \n",
    "                     kernel_size = (3,3),\n",
    "                     padding = 'same',\n",
    "                     strides = 1))\n",
    "    model.add(layers.Activation('relu'))\n",
    "    model.add(layers.BatchNormalization())\n",
    "    model.add(layers.Conv2D(filters = 128,\n",
    "                            kernel_size = (3,3),\n",
    "                            padding = 'same',\n",
    "                            strides = 1))\n",
    "    model.add(layers.Activation('relu'))\n",
    "    model.add(layers.BatchNormalization())\n",
    "    model.add(layers.MaxPooling2D(pool_size = (2,2),strides = (2,2)))\n",
    "    model.add(layers.Flatten())\n",
    "    model.add(layers.Dense(512))\n",
    "    model.add(layers.Activation('relu'))\n",
    "    model.add(layers.BatchNormalization())\n",
    "    model.add(layers.Dense(nb_class, activation = activ))\n",
    "    \n",
    "    rmsprop = optimizers.rmsprop(lr=lr,decay = decay)\n",
    "    model.compile(optimizer = rmsprop,\n",
    "                  loss = 'categorical_crossentropy',\n",
    "                  metrics =['accuracy'])\n",
    "    return model"
   ]
  },
  {
   "cell_type": "code",
   "execution_count": 6,
   "metadata": {},
   "outputs": [
    {
     "name": "stdout",
     "output_type": "stream",
     "text": [
      "WARNING:tensorflow:From C:\\Anaconda\\envs\\DL-37\\lib\\site-packages\\tensorflow\\python\\framework\\op_def_library.py:263: colocate_with (from tensorflow.python.framework.ops) is deprecated and will be removed in a future version.\n",
      "Instructions for updating:\n",
      "Colocations handled automatically by placer.\n",
      "WARNING:tensorflow:From C:\\Anaconda\\envs\\DL-37\\lib\\site-packages\\tensorflow\\python\\ops\\math_ops.py:3066: to_int32 (from tensorflow.python.ops.math_ops) is deprecated and will be removed in a future version.\n",
      "Instructions for updating:\n",
      "Use tf.cast instead.\n",
      "Epoch 1/10\n",
      " - 19s - loss: 1.9595 - acc: 0.3270 - val_loss: 1.7694 - val_acc: 0.4104\n",
      "\n",
      "Epoch 00001: val_acc improved from -inf to 0.41040, saving model to cifar10.0-01-0.41.hdf5\n",
      "Epoch 2/10\n",
      " - 17s - loss: 1.4382 - acc: 0.4806 - val_loss: 2.3803 - val_acc: 0.3289\n",
      "\n",
      "Epoch 00002: val_acc did not improve from 0.41040\n",
      "Epoch 3/10\n",
      " - 16s - loss: 1.2389 - acc: 0.5580 - val_loss: 1.8313 - val_acc: 0.4944\n",
      "\n",
      "Epoch 00003: val_acc improved from 0.41040 to 0.49440, saving model to cifar10.0-03-0.49.hdf5\n",
      "Epoch 4/10\n",
      " - 16s - loss: 1.1171 - acc: 0.6057 - val_loss: 1.5658 - val_acc: 0.5286\n",
      "\n",
      "Epoch 00004: val_acc improved from 0.49440 to 0.52860, saving model to cifar10.0-04-0.53.hdf5\n",
      "Epoch 5/10\n",
      " - 16s - loss: 1.0496 - acc: 0.6292 - val_loss: 1.2194 - val_acc: 0.6142\n",
      "\n",
      "Epoch 00005: val_acc improved from 0.52860 to 0.61420, saving model to cifar10.0-05-0.61.hdf5\n",
      "Epoch 6/10\n",
      " - 16s - loss: 0.9920 - acc: 0.6522 - val_loss: 1.6774 - val_acc: 0.5232\n",
      "\n",
      "Epoch 00006: val_acc did not improve from 0.61420\n",
      "Epoch 7/10\n",
      " - 17s - loss: 0.9424 - acc: 0.6714 - val_loss: 0.9942 - val_acc: 0.6596\n",
      "\n",
      "Epoch 00007: val_acc improved from 0.61420 to 0.65960, saving model to cifar10.0-07-0.66.hdf5\n",
      "Epoch 8/10\n",
      " - 17s - loss: 0.9111 - acc: 0.6824 - val_loss: 1.1544 - val_acc: 0.6293\n",
      "\n",
      "Epoch 00008: val_acc did not improve from 0.65960\n",
      "Epoch 9/10\n",
      " - 17s - loss: 0.8842 - acc: 0.6916 - val_loss: 1.1064 - val_acc: 0.6531\n",
      "\n",
      "Epoch 00009: val_acc did not improve from 0.65960\n",
      "Epoch 10/10\n",
      " - 17s - loss: 0.8543 - acc: 0.7057 - val_loss: 1.4305 - val_acc: 0.6187\n",
      "\n",
      "Epoch 00010: val_acc did not improve from 0.65960\n"
     ]
    }
   ],
   "source": [
    "model = small_vgg(lr = 0.01, decay = 0.0,activ= 'softmax',nb_class = nb_classes)\n",
    "filepath=\"cifar10.0-{epoch:02d}-{val_acc:.2f}.hdf5\"\n",
    "checkpoint = ModelCheckpoint(filepath, monitor='val_acc', verbose=1, save_best_only=True, mode='max',save_weights_only=False)\n",
    "early = EarlyStopping(monitor='val_loss', min_delta=0, patience=5, verbose=1, mode='auto')\n",
    "callbacks_list = [early,checkpoint]\n",
    "#training\n",
    "hist = model.fit_generator(generator=train_generator,                   \n",
    "                                steps_per_epoch=y_train.shape[0]/batch_size,\n",
    "                                validation_data=test_generator,                    \n",
    "                                validation_steps=y_test.shape[0]/batch_size,\n",
    "                                epochs=nb_epochs,\n",
    "                                callbacks = callbacks_list,\n",
    "                                verbose = 2)"
   ]
  }
 ],
 "metadata": {
  "kernelspec": {
   "display_name": "Python 3",
   "language": "python",
   "name": "python3"
  },
  "language_info": {
   "codemirror_mode": {
    "name": "ipython",
    "version": 3
   },
   "file_extension": ".py",
   "mimetype": "text/x-python",
   "name": "python",
   "nbconvert_exporter": "python",
   "pygments_lexer": "ipython3",
   "version": "3.7.3"
  }
 },
 "nbformat": 4,
 "nbformat_minor": 2
}
